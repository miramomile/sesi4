{
  "nbformat": 4,
  "nbformat_minor": 0,
  "metadata": {
    "colab": {
      "provenance": [],
      "authorship_tag": "ABX9TyM1EAF8Ppn8bY9iuPihO8l6",
      "include_colab_link": true
    },
    "kernelspec": {
      "name": "python3",
      "display_name": "Python 3"
    },
    "language_info": {
      "name": "python"
    }
  },
  "cells": [
    {
      "cell_type": "markdown",
      "metadata": {
        "id": "view-in-github",
        "colab_type": "text"
      },
      "source": [
        "<a href=\"https://colab.research.google.com/github/miramomile/sesi4/blob/main/sesi04_newton_raphson.ipynb\" target=\"_parent\"><img src=\"https://colab.research.google.com/assets/colab-badge.svg\" alt=\"Open In Colab\"/></a>"
      ]
    },
    {
      "cell_type": "code",
      "execution_count": 6,
      "metadata": {
        "colab": {
          "base_uri": "https://localhost:8080/"
        },
        "id": "C91Z42Ge3hRl",
        "outputId": "efd45fdf-7112-4364-b330-1eac1ef46a2a"
      },
      "outputs": [
        {
          "output_type": "stream",
          "name": "stdout",
          "text": [
            "newton_raphson 1.4142857142857144\n",
            "sqrt(2) 1.4142135623730951\n"
          ]
        }
      ],
      "source": [
        "import numpy as np\n",
        "f = lambda x: x**2-2\n",
        "f_prime = lambda x : 2*x\n",
        "newton_raphson = 1.4 - (f(1.4)) / (f_prime(1.4))\n",
        "\n",
        "print(\"newton_raphson\", newton_raphson)\n",
        "print(\"sqrt(2)\", np.sqrt(2))"
      ]
    },
    {
      "cell_type": "code",
      "source": [
        "def my_newton(f, df, x0, tol) :\n",
        "  #output is an etimation of the root of f\n",
        "  # using the newton raphson method\n",
        "  # recursive implementation\n",
        "  if abs (f(x0)) < tol :\n",
        "    return x0\n",
        "  else:\n",
        "    return my_newton(f, df, x0 - (f(x0))/(df(x0)), tol)"
      ],
      "metadata": {
        "id": "D1Owlg5s4GBG"
      },
      "execution_count": 7,
      "outputs": []
    },
    {
      "cell_type": "code",
      "source": [
        "estimate = my_newton (f, f_prime, 1.5, 1e-6)\n",
        "print(\"estimate\", estimate)\n",
        "print(\"sqrt(2)\", np.sqrt(2))"
      ],
      "metadata": {
        "colab": {
          "base_uri": "https://localhost:8080/"
        },
        "id": "NQNEOO6D5K9F",
        "outputId": "e3e1945f-3986-4a8f-e823-c04c8826d1c3"
      },
      "execution_count": 9,
      "outputs": [
        {
          "output_type": "stream",
          "name": "stdout",
          "text": [
            "estimate 1.4142135623746899\n",
            "sqrt(2) 1.4142135623730951\n"
          ]
        }
      ]
    }
  ]
}